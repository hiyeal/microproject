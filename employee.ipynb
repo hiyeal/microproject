import sqlite3

# Create a connection to the employee database
conn = sqlite3.connect('employee.db')

# Create a cursor object
cur = conn.cursor()

# Create a table to store employee information
cur.execute('''CREATE TABLE IF NOT EXISTS employees
               (id INTEGER PRIMARY KEY, name TEXT, age INTEGER, job_title TEXT, salary REAL)''')

# Function to add an employee to the database
def add_employee(name, age, job_title, salary):
    cur.execute("INSERT INTO employees (name, age, job_title, salary) VALUES (?, ?, ?, ?)", (name, age, job_title, salary))
    conn.commit()
    print("Employee added successfully.")

# Function to display all employees in the database
def display_employees():
    cur.execute("SELECT * FROM employees")
    rows = cur.fetchall()
    for row in rows:
        print(row)

# Function to update an employee's salary
def update_salary(id, new_salary):
    cur.execute("UPDATE employees SET salary = ? WHERE id = ?", (new_salary, id))
    conn.commit()
    print("Salary updated successfully.")

# Function to delete an employee from the database
def delete_employee(id):
    cur.execute("DELETE FROM employees WHERE id = ?", (id,))
    conn.commit()
    print("Employee deleted successfully.")

# Main program loop
while True:
    print("\nWelcome to the Employee Database Management System")
    print("1. Add Employee")
    print("2. Display Employees")
    print("3. Update Salary")
    print("4. Delete Employee")
    print("5. Exit")

    choice = int(input("Enter your choice: "))

    if choice == 1:
        name = input("Enter employee name: ")
        age = int(input("Enter employee age: "))
        job_title = input("Enter employee job title: ")
        salary = float(input("Enter employee salary: "))
        add_employee(name, age, job_title, salary)

    elif choice == 2:
        display_employees()

    elif choice == 3:
        id = int(input("Enter employee ID: "))
        new_salary = float(input("Enter new salary: "))
        update_salary(id, new_salary)

    elif choice == 4:
        id = int(input("Enter employee ID: "))
        delete_employee(id)

    elif choice == 5:
        print("Goodbye!")
        break

    else:
        print("Invalid choice. Please try again.")
